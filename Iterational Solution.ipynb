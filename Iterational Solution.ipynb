{
 "cells": [
  {
   "cell_type": "markdown",
   "id": "2ed8b65c-64d4-4841-ad45-f378f4328e46",
   "metadata": {},
   "source": [
    "# Iterational Solution"
   ]
  },
  {
   "cell_type": "markdown",
   "id": "266c2634-b4fc-42be-9255-4dcc13553d6b",
   "metadata": {},
   "source": [
    "Стратегия такая:\n",
    "1. Сортируем поезда по длине их маршрутов. Если длины их маршрутов совпадают, то сортируем по значению минимальной пропускной способности по убыванию.\n",
    "2. Берем самый длинный поезд. Выписываем все маршруты, которые ему доступны (столбцы матрицы `Capacity`: то есть все пары $(a,b)$, где $a,b$ -- города из маршрута этого поезда).\n",
    "3. Выбираем самый длинный маршрут.\n",
    "4. Дальше надо понять, сколько вагонов будут отправлены по этому маршруту. Это число -- это минимум между тем, сколько надо отправить по этому маршруту вагонов (элемент матрицы `Needs`) и минимальной пропускной способностью на этом маршруте.\n",
    "5. Выбрав число вагонов, переписываем матрицу `Needs` и пропускную способность, вычитая выбранные вагоны.\n",
    "6. Так делаем, пока для всех маршрутов не будет записано, сколько вагонов отправляется."
   ]
  },
  {
   "cell_type": "code",
   "execution_count": 73,
   "id": "adafa961-1216-49b1-955b-e9fdc95333a7",
   "metadata": {},
   "outputs": [],
   "source": [
    "import pandas as pd\n",
    "import numpy as np\n",
    "from itertools import permutations, combinations"
   ]
  },
  {
   "cell_type": "code",
   "execution_count": 28,
   "id": "54756c8c-6e89-43b8-827b-fb46ae085b3c",
   "metadata": {},
   "outputs": [
    {
     "data": {
      "text/html": [
       "<div>\n",
       "<style scoped>\n",
       "    .dataframe tbody tr th:only-of-type {\n",
       "        vertical-align: middle;\n",
       "    }\n",
       "\n",
       "    .dataframe tbody tr th {\n",
       "        vertical-align: top;\n",
       "    }\n",
       "\n",
       "    .dataframe thead th {\n",
       "        text-align: right;\n",
       "    }\n",
       "</style>\n",
       "<table border=\"1\" class=\"dataframe\">\n",
       "  <thead>\n",
       "    <tr style=\"text-align: right;\">\n",
       "      <th></th>\n",
       "      <th>stations</th>\n",
       "      <th>full_timetable</th>\n",
       "    </tr>\n",
       "  </thead>\n",
       "  <tbody>\n",
       "    <tr>\n",
       "      <th>0</th>\n",
       "      <td>{'Златоуст (1)': ['0', '38', '38', '25', '29',...</td>\n",
       "      <td>{'853': {'route': ['1', '3', '2'], 'free_carri...</td>\n",
       "    </tr>\n",
       "    <tr>\n",
       "      <th>1</th>\n",
       "      <td>{'Златоуст (1)': ['0', '28', '24', '28', '8', ...</td>\n",
       "      <td>{'896': {'route': ['1', '3', '2'], 'free_carri...</td>\n",
       "    </tr>\n",
       "    <tr>\n",
       "      <th>2</th>\n",
       "      <td>{'Златоуст (1)': ['0', '25', '15', '6', '15', ...</td>\n",
       "      <td>{'309': {'route': ['1', '3', '2'], 'free_carri...</td>\n",
       "    </tr>\n",
       "    <tr>\n",
       "      <th>3</th>\n",
       "      <td>{'Златоуст (1)': ['0', '32', '30', '13', '4', ...</td>\n",
       "      <td>{'800': {'route': ['2', '3', '6', '5'], 'free_...</td>\n",
       "    </tr>\n",
       "    <tr>\n",
       "      <th>4</th>\n",
       "      <td>{'Златоуст (1)': ['0', '10', '38', '16', '1', ...</td>\n",
       "      <td>{'893': {'route': ['1', '3', '6', '5', '7'], '...</td>\n",
       "    </tr>\n",
       "  </tbody>\n",
       "</table>\n",
       "</div>"
      ],
      "text/plain": [
       "                                            stations  \\\n",
       "0  {'Златоуст (1)': ['0', '38', '38', '25', '29',...   \n",
       "1  {'Златоуст (1)': ['0', '28', '24', '28', '8', ...   \n",
       "2  {'Златоуст (1)': ['0', '25', '15', '6', '15', ...   \n",
       "3  {'Златоуст (1)': ['0', '32', '30', '13', '4', ...   \n",
       "4  {'Златоуст (1)': ['0', '10', '38', '16', '1', ...   \n",
       "\n",
       "                                      full_timetable  \n",
       "0  {'853': {'route': ['1', '3', '2'], 'free_carri...  \n",
       "1  {'896': {'route': ['1', '3', '2'], 'free_carri...  \n",
       "2  {'309': {'route': ['1', '3', '2'], 'free_carri...  \n",
       "3  {'800': {'route': ['2', '3', '6', '5'], 'free_...  \n",
       "4  {'893': {'route': ['1', '3', '6', '5', '7'], '...  "
      ]
     },
     "execution_count": 28,
     "metadata": {},
     "output_type": "execute_result"
    }
   ],
   "source": [
    "dataset = pd.read_json('dataset.json')\n",
    "dataset.head()"
   ]
  },
  {
   "cell_type": "code",
   "execution_count": 249,
   "id": "f6dd53b8-3e9e-492e-8ca6-623ae366afed",
   "metadata": {},
   "outputs": [],
   "source": [
    "data_to_see = dataset.iloc[0]\n",
    "full_timetable = data_to_see['full_timetable']\n",
    "stations = data_to_see['stations']"
   ]
  },
  {
   "cell_type": "code",
   "execution_count": 250,
   "id": "39685a1b-097e-4c90-9a71-44783e5f9c93",
   "metadata": {},
   "outputs": [
    {
     "data": {
      "text/plain": [
       "array([[ 0, 38, 38, 25, 29,  7, 10],\n",
       "       [26,  0,  7, 34, 20, 27, 35],\n",
       "       [15,  5,  0, 27, 16, 31, 24],\n",
       "       [12, 39,  1,  0,  2, 14, 20],\n",
       "       [38, 38,  1, 28,  0, 33, 14],\n",
       "       [21, 27, 24,  9,  1,  0,  3],\n",
       "       [ 9,  3, 23, 25, 32, 37,  0]], dtype=int32)"
      ]
     },
     "execution_count": 250,
     "metadata": {},
     "output_type": "execute_result"
    }
   ],
   "source": [
    "Needs = np.array([list(stations.values())], dtype=np.int32)[0]\n",
    "Needs"
   ]
  },
  {
   "cell_type": "code",
   "execution_count": 251,
   "id": "cf0841a4-f500-4481-809a-f0089475ab8a",
   "metadata": {},
   "outputs": [],
   "source": [
    "routes = [list(map(lambda x: int(x), list(full_timetable.values())[i]['route'])) for i in range(len(full_timetable.keys()))]\n",
    "free_carriages = [list(map(lambda x: int(x), list(full_timetable.values())[i]['free_carriage'])) for i in range(len(full_timetable.keys()))]\n",
    "\n",
    "trains = list(full_timetable.keys())\n",
    "n_trains = len(trains)\n",
    "trains_encodding = {i: train for i, train in enumerate(trains)}\n",
    "trains_codes = range(n_trains)\n",
    "\n",
    "paths = list(permutations(cities, 2))\n",
    "paths_encodding = {path: i for i, path in enumerate(paths)}\n",
    "\n",
    "cities = list(map(lambda x: int(x[-2:-1]), stations.keys()))"
   ]
  },
  {
   "cell_type": "code",
   "execution_count": 252,
   "id": "d229e379-c12f-4c47-bde5-4fe5cbfd0928",
   "metadata": {},
   "outputs": [
    {
     "name": "stdout",
     "output_type": "stream",
     "text": [
      "routes are [[1, 3, 2], [1, 3, 2], [1, 3, 6, 5, 4], [1, 3, 6, 5, 7], [1, 3, 6, 5, 7], [2, 3, 1], [2, 3, 6, 5], [2, 3, 6, 5, 7], [2, 3, 6, 5, 7], [2, 3, 6, 7], [2, 3, 6, 7], [3, 2, 4], [3, 2, 4], [3, 2, 4, 5], [4, 2], [4, 2, 3], [4, 2, 3], [4, 2, 3], [4, 5], [4, 5, 6, 7], [4, 5, 6, 7], [4, 5, 7], [4, 5, 7], [5, 4], [5, 4, 2, 3, 1], [5, 4, 2, 3, 1], [5, 6, 3, 1], [5, 6, 3, 2], [5, 6, 3, 2], [5, 6, 3, 2], [5, 6, 7], [5, 6, 7], [5, 7], [5, 7], [5, 7], [7, 5], [7, 5, 4], [7, 5, 4], [7, 5, 6, 3, 1], [7, 5, 6, 3, 2], [7, 6, 3, 1], [7, 6, 5], [7, 6, 5, 4]]\n"
     ]
    }
   ],
   "source": [
    "print(f\"routes are {routes}\")"
   ]
  },
  {
   "cell_type": "code",
   "execution_count": 253,
   "id": "02643020-9ea3-49cd-b557-0821ddb203d8",
   "metadata": {},
   "outputs": [
    {
     "data": {
      "text/plain": [
       "array([[21., 21.,  0., ...,  0.,  0.,  0.],\n",
       "       [10., 34.,  0., ...,  0.,  0.,  0.],\n",
       "       [ 0., 33.,  3., ...,  0.,  0.,  0.],\n",
       "       ...,\n",
       "       [ 0.,  0.,  0., ...,  0.,  0., 16.],\n",
       "       [ 0.,  0.,  0., ...,  0.,  1.,  1.],\n",
       "       [ 0.,  0.,  0., ...,  5., 28., 39.]])"
      ]
     },
     "execution_count": 253,
     "metadata": {},
     "output_type": "execute_result"
    }
   ],
   "source": [
    "Capacity = np.zeros((len(trains), len(paths)))\n",
    "#print(len(paths), len(trains), Capacity.shape)\n",
    "for i, train in enumerate(trains):\n",
    "    route = tuple(map(lambda x: int(x), full_timetable[train]['route']))\n",
    "    free_carriage = list(map(lambda x: int(x), full_timetable[train]['free_carriage']))\n",
    "    for j, path in enumerate(paths):\n",
    "        #path is in route\n",
    "        #that is, each element of path is in route\n",
    "        #AND index of path[0] < index of path[1] in route\n",
    "        if path[0] in route and path[1] in route:\n",
    "            ind_of_0 = route.index(path[0])\n",
    "            ind_of_1 = route.index(path[1])\n",
    "            if ind_of_0 < ind_of_1:\n",
    "                #print(f\"path is = {path}\\t path is = {route}\")\n",
    "                #print(f\"free_carriage is {free_carriage}\")\n",
    "                value = min(free_carriage[ind_of_0 : ind_of_1])\n",
    "                #print(f\"value is {value}\")\n",
    "                Capacity[i,j] = value\n",
    "Capacity"
   ]
  },
  {
   "cell_type": "markdown",
   "id": "c7940b06-1f53-4e19-ae5a-73aca19c9a57",
   "metadata": {},
   "source": [
    "## Sort routes and free carriage"
   ]
  },
  {
   "cell_type": "code",
   "execution_count": 271,
   "id": "ddf8ee12-917a-4c36-b654-49d71886d017",
   "metadata": {},
   "outputs": [
    {
     "name": "stdout",
     "output_type": "stream",
     "text": [
      "trains are ['156', '222', '417', '719', '328', '371', '223', '448', '973', '692', '432', '853', '621', '177', '801', '743', '275', '967', '500', '942', '300', '324', '200', '700', '232', '774', '399', '332', '617', '140', '331', '444', '323', '722', '405', '182', '658', '901', '930', '883', '563', '251', '643']\n",
      "routes are ([5, 7], [5, 7], [5, 7], [7, 5], [4, 2], [4, 5], [5, 4], [5, 6, 7], [7, 5, 4], [3, 2, 4], [4, 2, 3], [1, 3, 2], [5, 6, 7], [4, 5, 7], [1, 3, 2], [2, 3, 1], [4, 2, 3], [3, 2, 4], [4, 5, 7], [4, 2, 3], [7, 5, 4], [7, 6, 5], [4, 5, 6, 7], [7, 6, 3, 1], [5, 6, 3, 2], [5, 6, 3, 2], [2, 3, 6, 5], [2, 3, 6, 7], [2, 3, 6, 7], [3, 2, 4, 5], [7, 6, 5, 4], [5, 6, 3, 2], [4, 5, 6, 7], [5, 6, 3, 1], [5, 4, 2, 3, 1], [1, 3, 6, 5, 7], [2, 3, 6, 5, 7], [5, 4, 2, 3, 1], [2, 3, 6, 5, 7], [7, 5, 6, 3, 1], [1, 3, 6, 5, 4], [7, 5, 6, 3, 2], [1, 3, 6, 5, 7])\n",
      "free carriages are ([36], [25], [22], [21], [18], [12], [8], [37, 37], [24, 36], [26, 23], [23, 28], [21, 21], [15, 34], [21, 14], [34, 10], [8, 33], [8, 30], [23, 5], [4, 6], [2, 35], [1, 28], [1, 30], [34, 18, 17], [16, 29, 22], [15, 33, 32], [27, 13, 17], [12, 37, 16], [32, 9, 31], [37, 30, 7], [6, 30, 14], [39, 28, 5], [35, 23, 4], [25, 32, 1], [1, 37, 2], [24, 28, 30, 24], [15, 18, 13, 36], [26, 13, 24, 37], [16, 12, 27, 25], [22, 22, 24, 11], [5, 25, 11, 4], [33, 20, 35, 3], [11, 3, 10, 26], [18, 1, 13, 21])\n"
     ]
    }
   ],
   "source": [
    "sortings = sorted(zip(routes, free_carriages, trains_codes), key=lambda x: (len(x[0]), -min(x[1])))\n",
    "routes, free_carriages, trains_codes = list(zip(*sortings))\n",
    "print(f\"trains are {[trains_encodding[code] for code in trains_codes]}\")\n",
    "print(f\"routes are {routes}\")\n",
    "print(f\"free carriages are {free_carriages}\")"
   ]
  },
  {
   "cell_type": "code",
   "execution_count": 272,
   "id": "e9c78053-4fb6-4014-bb88-3e0495edaa05",
   "metadata": {},
   "outputs": [],
   "source": [
    "Cars = [None] * n_trains"
   ]
  },
  {
   "cell_type": "code",
   "execution_count": 273,
   "id": "51db10e3-7e2d-4c67-af22-33131552c973",
   "metadata": {},
   "outputs": [],
   "source": [
    "for i, train in enumerate(trains_codes):\n",
    "    train_route = routes[i]\n",
    "    route_len = len(train_route)\n",
    "    train_free_carriage = np.array(free_carriages[i])\n",
    "    Cars[i] = {}\n",
    "    for j, start in enumerate(train_route):\n",
    "        for end in train_route[:j:-1]:\n",
    "            start_ind = train_route.index(start)\n",
    "            end_ind = train_route.index(end)\n",
    "            path = (start, end)\n",
    "            need = Needs[path[0]-1, path[1]-1]\n",
    "            train_capacity = min(train_free_carriage[start_ind : end_ind])\n",
    "            cars = min(need, train_capacity)\n",
    "            Cars[i][path] = cars\n",
    "            Needs[path[0]-1, path[1]-1] -= cars\n",
    "            train_free_carriage[start_ind : end_ind] -= cars"
   ]
  },
  {
   "cell_type": "code",
   "execution_count": 274,
   "id": "77d9f8f2-7391-4649-9184-d469a5fd9aaa",
   "metadata": {},
   "outputs": [
    {
     "data": {
      "text/plain": [
       "{(1, 4): 3,\n",
       " (1, 5): 0,\n",
       " (1, 6): 0,\n",
       " (1, 3): 0,\n",
       " (3, 4): 0,\n",
       " (3, 5): 0,\n",
       " (3, 6): 0,\n",
       " (6, 4): 0,\n",
       " (6, 5): 0,\n",
       " (5, 4): 0}"
      ]
     },
     "execution_count": 274,
     "metadata": {},
     "output_type": "execute_result"
    }
   ],
   "source": [
    "Cars[40]"
   ]
  },
  {
   "cell_type": "code",
   "execution_count": 275,
   "id": "563ed6e4-a3bd-4e3c-8128-4ba8efcf99dd",
   "metadata": {},
   "outputs": [
    {
     "data": {
      "text/plain": [
       "([33, 20, 35, 3], [1, 3, 6, 5, 4])"
      ]
     },
     "execution_count": 275,
     "metadata": {},
     "output_type": "execute_result"
    }
   ],
   "source": [
    "free_carriages[40], routes[40]"
   ]
  },
  {
   "cell_type": "code",
   "execution_count": 259,
   "id": "b950c770-4110-4368-b620-eb8e78a61bf0",
   "metadata": {},
   "outputs": [
    {
     "data": {
      "text/plain": [
       "array([[ 0,  7,  0, 22,  8,  5,  0],\n",
       "       [ 5,  0,  0,  9,  0,  0,  0],\n",
       "       [ 0,  0,  0,  0,  3, 10, 20],\n",
       "       [12,  0,  0,  0,  0,  0,  0],\n",
       "       [ 1,  6,  0,  0,  0,  0,  0],\n",
       "       [ 7,  3,  0,  9,  0,  0,  0],\n",
       "       [ 0,  0, 11,  0,  0, 25,  0]], dtype=int32)"
      ]
     },
     "execution_count": 259,
     "metadata": {},
     "output_type": "execute_result"
    }
   ],
   "source": [
    "Needs"
   ]
  },
  {
   "cell_type": "code",
   "execution_count": 260,
   "id": "5bbfc97c-6e02-4a43-af59-67c9c4bddb8d",
   "metadata": {},
   "outputs": [
    {
     "data": {
      "text/plain": [
       "array([[ 0, 38, 38, 25, 29,  7, 10],\n",
       "       [26,  0,  7, 34, 20, 27, 35],\n",
       "       [15,  5,  0, 27, 16, 31, 24],\n",
       "       [12, 39,  1,  0,  2, 14, 20],\n",
       "       [38, 38,  1, 28,  0, 33, 14],\n",
       "       [21, 27, 24,  9,  1,  0,  3],\n",
       "       [ 9,  3, 23, 25, 32, 37,  0]], dtype=int32)"
      ]
     },
     "execution_count": 260,
     "metadata": {},
     "output_type": "execute_result"
    }
   ],
   "source": [
    "np.array([list(stations.values())], dtype=np.int32)[0]"
   ]
  },
  {
   "cell_type": "code",
   "execution_count": null,
   "id": "15950646-7729-43cb-aeb2-81cfc519400f",
   "metadata": {},
   "outputs": [],
   "source": []
  }
 ],
 "metadata": {
  "kernelspec": {
   "display_name": "Python 3 (ipykernel)",
   "language": "python",
   "name": "python3"
  },
  "language_info": {
   "codemirror_mode": {
    "name": "ipython",
    "version": 3
   },
   "file_extension": ".py",
   "mimetype": "text/x-python",
   "name": "python",
   "nbconvert_exporter": "python",
   "pygments_lexer": "ipython3",
   "version": "3.11.4"
  }
 },
 "nbformat": 4,
 "nbformat_minor": 5
}
