{
 "cells": [
  {
   "cell_type": "code",
   "execution_count": 138,
   "id": "66ec90ce",
   "metadata": {},
   "outputs": [],
   "source": [
    "import pandas as pd\n",
    "import numpy as np\n",
    "import dash\n",
    "import dash_core_components as dcc\n",
    "import dash_html_components as html\n",
    "import dash_table\n",
    "from dash import Dash, dcc, html, Input, Output,callback"
   ]
  },
  {
   "cell_type": "code",
   "execution_count": 139,
   "id": "32387263",
   "metadata": {},
   "outputs": [
    {
     "data": {
      "text/plain": [
       "stations          {'Златоуст (1)': ['0', '2', '1', '29', '13', '...\n",
       "full_timetable    {'667': {'route': ['1', '3', '2'], 'free_carri...\n",
       "Name: 10, dtype: object"
      ]
     },
     "execution_count": 139,
     "metadata": {},
     "output_type": "execute_result"
    }
   ],
   "source": [
    "data = pd.read_json(\"dataset.json\")\n",
    "data_to_see = data.iloc[10]\n",
    "data_to_see"
   ]
  },
  {
   "cell_type": "code",
   "execution_count": 324,
   "id": "3d754e04",
   "metadata": {},
   "outputs": [
    {
     "data": {
      "text/plain": [
       "['Златоуст',\n",
       " 'Кыштым',\n",
       " 'Миасс',\n",
       " 'Муслюмово',\n",
       " 'Челябинск',\n",
       " 'Полетаево',\n",
       " 'Еманжелинск']"
      ]
     },
     "execution_count": 324,
     "metadata": {},
     "output_type": "execute_result"
    }
   ],
   "source": [
    "hat = [item[:-4] for item in data_to_see['stations'].keys()]\n",
    "data_to_see[1]\n",
    "hat"
   ]
  },
  {
   "cell_type": "code",
   "execution_count": null,
   "id": "1c161fdb",
   "metadata": {},
   "outputs": [],
   "source": [
    "1 - номер поезда\n",
    "2 - время прибытия\n",
    "3 - Время отбытия\n",
    "4 - количество вагонов для сцепки\n",
    "5 - сколько вагонов везет "
   ]
  },
  {
   "cell_type": "code",
   "execution_count": 325,
   "id": "0ba9ee5f",
   "metadata": {},
   "outputs": [
    {
     "data": {
      "text/html": [
       "<div>\n",
       "<style scoped>\n",
       "    .dataframe tbody tr th:only-of-type {\n",
       "        vertical-align: middle;\n",
       "    }\n",
       "\n",
       "    .dataframe tbody tr th {\n",
       "        vertical-align: top;\n",
       "    }\n",
       "\n",
       "    .dataframe thead th {\n",
       "        text-align: right;\n",
       "    }\n",
       "</style>\n",
       "<table border=\"1\" class=\"dataframe\">\n",
       "  <thead>\n",
       "    <tr style=\"text-align: right;\">\n",
       "      <th></th>\n",
       "      <th>Поезд</th>\n",
       "      <th>Время прибытия</th>\n",
       "      <th>Время отбытия</th>\n",
       "      <th>Количество вагонов для сцепки</th>\n",
       "      <th>Сколько вагонов везет</th>\n",
       "      <th>Следующая станция</th>\n",
       "    </tr>\n",
       "  </thead>\n",
       "  <tbody>\n",
       "    <tr>\n",
       "      <th>0</th>\n",
       "      <td>№ 667</td>\n",
       "      <td>02:10</td>\n",
       "      <td>10:00</td>\n",
       "      <td>2</td>\n",
       "      <td>12</td>\n",
       "      <td>Златоуст</td>\n",
       "    </tr>\n",
       "    <tr>\n",
       "      <th>1</th>\n",
       "      <td>№ 247</td>\n",
       "      <td>07:24</td>\n",
       "      <td>16:14</td>\n",
       "      <td>0</td>\n",
       "      <td>34</td>\n",
       "      <td>Кыштым</td>\n",
       "    </tr>\n",
       "    <tr>\n",
       "      <th>2</th>\n",
       "      <td>№ 903</td>\n",
       "      <td>03:38</td>\n",
       "      <td>12:28</td>\n",
       "      <td>7</td>\n",
       "      <td>28</td>\n",
       "      <td>Миасс</td>\n",
       "    </tr>\n",
       "    <tr>\n",
       "      <th>3</th>\n",
       "      <td>№ 111</td>\n",
       "      <td>01:22</td>\n",
       "      <td>10:12</td>\n",
       "      <td>9</td>\n",
       "      <td>24</td>\n",
       "      <td>Муслюмово</td>\n",
       "    </tr>\n",
       "    <tr>\n",
       "      <th>4</th>\n",
       "      <td>№ 451</td>\n",
       "      <td>02:10</td>\n",
       "      <td>10:00</td>\n",
       "      <td>0</td>\n",
       "      <td>4</td>\n",
       "      <td>Челябинск</td>\n",
       "    </tr>\n",
       "  </tbody>\n",
       "</table>\n",
       "</div>"
      ],
      "text/plain": [
       "   Поезд Время прибытия Время отбытия  Количество вагонов для сцепки  \\\n",
       "0  № 667          02:10         10:00                              2   \n",
       "1  № 247          07:24         16:14                              0   \n",
       "2  № 903          03:38         12:28                              7   \n",
       "3  № 111          01:22         10:12                              9   \n",
       "4  № 451          02:10         10:00                              0   \n",
       "\n",
       "   Сколько вагонов везет Следующая станция  \n",
       "0                     12          Златоуст  \n",
       "1                     34            Кыштым  \n",
       "2                     28             Миасс  \n",
       "3                     24         Муслюмово  \n",
       "4                      4         Челябинск  "
      ]
     },
     "execution_count": 325,
     "metadata": {},
     "output_type": "execute_result"
    }
   ],
   "source": [
    "from datetime import datetime, time\n",
    "def_data = list(interval.values())[:5]\n",
    "start_time = datetime.strptime('01:10', '%H:%M').time()\n",
    "def_data2 = [(datetime.strptime(t, '%H:%M') - datetime.combine(datetime.today(), start_time)) for t in def_data]\n",
    "def_data2_str = [str(((dt.days * 24 + dt.seconds) // 3600) % 24 - 1).zfill(2) + ':' + str((dt.seconds // 60) % 60).zfill(2) for dt in def_data2] \n",
    "train  = ['№ '+item for item in data_to_see['full_timetable'].keys()]\n",
    "dict_train = {'Поезд':train[:5], 'Время прибытия': def_data, 'Время отбытия':def_data2_str,\n",
    "        'Количество вагонов для сцепки':[2,0,7,9,0],\n",
    "       'Сколько вагонов везет':[12,34,28,24,4], 'Следующая станция':hat[:5]}\n",
    "column_for_table = dict.keys()\n",
    "data_far_table = dict.values()\n",
    "df_for_table = pd.DataFrame.from_dict(dict_train) \n",
    "df_for_table"
   ]
  },
  {
   "cell_type": "code",
   "execution_count": 334,
   "id": "9fd6fc05",
   "metadata": {},
   "outputs": [
    {
     "data": {
      "text/html": [
       "\n",
       "        <iframe\n",
       "            width=\"100%\"\n",
       "            height=\"650\"\n",
       "            src=\"http://127.0.0.1:8050/\"\n",
       "            frameborder=\"0\"\n",
       "            allowfullscreen\n",
       "            \n",
       "        ></iframe>\n",
       "        "
      ],
      "text/plain": [
       "<IPython.lib.display.IFrame at 0x2b445c26410>"
      ]
     },
     "metadata": {},
     "output_type": "display_data"
    }
   ],
   "source": [
    "app = dash.Dash(__name__)\n",
    "app.layout = html.Div(\n",
    "    style={'background-image': 'url(\"https://catherineasquithgallery.com/uploads/posts/2021-02/thumbs/1613682224_1-p-fon-dlya-prezentatsii-zheleznaya-doroga-1.jpg\")',\n",
    "           'background-size': 'cover',\n",
    "           'width': '100%',\n",
    "           'height': '110vh'},\n",
    "    children=[\n",
    "        html.Br(),\n",
    "        html.H1(children='Координация пропуска вагонопотока',\n",
    "                style={'fontSize':'36px', 'textAlign':'center'}),\n",
    "        html.Div([\n",
    "            html.Label('Выберете экземпляр вагонопотока'),\n",
    "            dcc.Input(\n",
    "                id='input1',\n",
    "                type='number',\n",
    "                min=1,\n",
    "                max=100000,\n",
    "                step='1'\n",
    "            ),\n",
    "            html.Br(),\n",
    "            html.Label('Выберете время стоянки поезда для каждой станции'),\n",
    "            dcc.Input(\n",
    "                id='input2',\n",
    "                type='text',\n",
    "                pattern=r'^([0-1]?[0-9]|2[0-3]):[0-5][0-9]$'\n",
    "            ),\n",
    "            html.Br(),\n",
    "            html.Label('Выберите станцию'),\n",
    "            dcc.Dropdown(hat,\n",
    "                id='drop1',\n",
    "                multi=False\n",
    "            ),\n",
    "            html.Div(id='output1'),\n",
    "            html.Br(),\n",
    "            html.Button('Посмотреть вагонопоток', id='button', n_clicks=0,\n",
    "                        style={'fontSize':'14px', 'width': '150px',\n",
    "                               'fontWeight': 'bold', 'height': '100'}),\n",
    "            html.Br(),\n",
    "            html.Div(\n",
    "                children=[\n",
    "                    html.H1(children='Выполненные расчеты',\n",
    "                            style={'fontSize':'24px', 'textAlign':'center'}),\n",
    "                    dash_table.DataTable(\n",
    "                            data=df_for_table.to_dict('records'),\n",
    "                            columns=[{\"name\": i, \"id\": i} for i in df_for_table.columns],\n",
    "                        style_cell={'textAlign': 'left', 'minWidth': '150px',\n",
    "                                    'whiteSpace': 'normal', 'height': 'auto',\n",
    "                                    'fontSize':'12px'},\n",
    "                                    style_header={'textAlign': 'center', 'fontWeight': 'bold', 'fontSize':'14px'}\n",
    "                        )\n",
    "\n",
    "                ],\n",
    "                style={'width': '100%', 'margin': '0 auto'}\n",
    "            )\n",
    "        ]\n",
    "        )\n",
    "    ]\n",
    ")\n",
    "\n",
    "@app.callback(\n",
    "    Output('output1', 'children'),\n",
    "    Input('drop1', 'value')\n",
    ")\n",
    "def update_drop(station):\n",
    "    if station:\n",
    "        return f'Вы сотрудник станции {station}'\n",
    "    else:\n",
    "        return 'Выберите станцию для расписания вагонопотока'\n",
    "\n",
    "if __name__ == '__main__':\n",
    "    app.run_server(mode='inline', debug=True)"
   ]
  },
  {
   "cell_type": "code",
   "execution_count": 263,
   "id": "93782016",
   "metadata": {
    "scrolled": true
   },
   "outputs": [
    {
     "data": {
      "text/plain": [
       "{'1-3': '02:10',\n",
       " '3-2': '07:24',\n",
       " '3-6': '03:38',\n",
       " '6-5': '01:22',\n",
       " '5-4': '02:10',\n",
       " '5-7': '02:38',\n",
       " '2-3': '07:24',\n",
       " '2-4': '08:00',\n",
       " '4-5': '02:10',\n",
       " '4-2': '08:00',\n",
       " '3-1': '02:10',\n",
       " '5-6': '01:22',\n",
       " '6-3': '03:38',\n",
       " '7-5': '02:38',\n",
       " '7-6': '01:06'}"
      ]
     },
     "execution_count": 263,
     "metadata": {},
     "output_type": "execute_result"
    }
   ],
   "source": [
    "from datetime import datetime\n",
    "timetable_values = [item['timetable'] for item in data_to_see['full_timetable'].values()]\n",
    "time_range=[]\n",
    "for i in range(len(timetable_values)):\n",
    "    lis=[]\n",
    "    for j in range(len(timetable_values[i])-1):\n",
    "        x = datetime.strptime(timetable_values[i][j][-5::], '%H:%M').time()\n",
    "        y = datetime.strptime(timetable_values[i][j+1][:5], '%H:%M').time()\n",
    "        a = datetime.combine(datetime.min, y) - datetime.combine(datetime.min, x)\n",
    "        lis.append(a)\n",
    "    time_range.append(lis)\n",
    "routes = [item['route'] for item in data_to_see['full_timetable'].values()]\n",
    "routes_range = []\n",
    "for i in range(len(routes)):\n",
    "    r=[]\n",
    "    for j in range(len(routes[i])-1):\n",
    "        lt = f\"{routes[i][j]}-{routes[i][j+1]}\"\n",
    "        r.append(lt)\n",
    "    routes_range.append(r)\n",
    "combine_dict = {}\n",
    "unique_routes = set(sum(routes_range, []))\n",
    "unique_timetable = set(sum(time_range, []))\n",
    "combined_list=[]\n",
    "for i in range(len(routes_range)):\n",
    "    combine_dict.update({s:x for s,x in zip(routes_range[i], time_range[i])})\n",
    "interval = {}\n",
    "for key, value in combine_dict.items():\n",
    "    total_seconds = value.total_seconds()\n",
    "    hours = total_seconds // 3600\n",
    "    minutes = (total_seconds % 3600) // 60\n",
    "    interval[key] = f'{int(hours):02d}:{int(minutes):02d}'\n",
    "start_time=[]\n",
    "for i in range(len(timetable_values)):\n",
    "    a = timetable_values[i][0][:5]\n",
    "    start_time.append(a)\n",
    "start_value = {}\n",
    "for i, j in zip(train, start_time):\n",
    "    start_value[i] = j\n",
    "interval"
   ]
  },
  {
   "cell_type": "code",
   "execution_count": 277,
   "id": "574d33b0",
   "metadata": {},
   "outputs": [
    {
     "ename": "IndexError",
     "evalue": "index 17 is out of bounds for axis 1 with size 17",
     "output_type": "error",
     "traceback": [
      "\u001b[1;31m---------------------------------------------------------------------------\u001b[0m",
      "\u001b[1;31mIndexError\u001b[0m                                Traceback (most recent call last)",
      "Cell \u001b[1;32mIn[277], line 6\u001b[0m\n\u001b[0;32m      4\u001b[0m \u001b[38;5;28;01mfor\u001b[39;00m i \u001b[38;5;129;01min\u001b[39;00m \u001b[38;5;28mrange\u001b[39m(\u001b[38;5;28mlen\u001b[39m(mass)):\n\u001b[0;32m      5\u001b[0m     \u001b[38;5;28;01mfor\u001b[39;00m j \u001b[38;5;129;01min\u001b[39;00m \u001b[38;5;28mrange\u001b[39m(\u001b[38;5;28mlen\u001b[39m(interval)):\n\u001b[1;32m----> 6\u001b[0m                    mass[j,\u001b[38;5;241m2\u001b[39m\u001b[38;5;241m+\u001b[39mi] \u001b[38;5;241m=\u001b[39m \u001b[38;5;28mlist\u001b[39m(interval\u001b[38;5;241m.\u001b[39mvalues())\n",
      "\u001b[1;31mIndexError\u001b[0m: index 17 is out of bounds for axis 1 with size 17"
     ]
    }
   ],
   "source": [
    "mass = np.zeros(shape=(len(start_value),len(interval)+2), dtype='object')\n",
    "mass[:,0] = list(start_value.keys())\n",
    "mass[:,1] = list(start_value.values())\n",
    "for i in range(len(mass)):\n",
    "    for j in range(len(interval)):\n",
    "                   mass[j,2+i] = list(interval.values())"
   ]
  },
  {
   "cell_type": "code",
   "execution_count": null,
   "id": "8540d5ac",
   "metadata": {},
   "outputs": [],
   "source": []
  },
  {
   "cell_type": "code",
   "execution_count": null,
   "id": "93872757",
   "metadata": {},
   "outputs": [],
   "source": []
  }
 ],
 "metadata": {
  "kernelspec": {
   "display_name": "Python 3 (ipykernel)",
   "language": "python",
   "name": "python3"
  },
  "language_info": {
   "codemirror_mode": {
    "name": "ipython",
    "version": 3
   },
   "file_extension": ".py",
   "mimetype": "text/x-python",
   "name": "python",
   "nbconvert_exporter": "python",
   "pygments_lexer": "ipython3",
   "version": "3.11.4"
  }
 },
 "nbformat": 4,
 "nbformat_minor": 5
}
